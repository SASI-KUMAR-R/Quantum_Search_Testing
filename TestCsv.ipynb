{
 "cells": [
  {
   "cell_type": "code",
   "execution_count": 22,
   "id": "d0333162",
   "metadata": {},
   "outputs": [],
   "source": [
    "import pandas as pd\n",
    "import math"
   ]
  },
  {
   "cell_type": "code",
   "execution_count": 23,
   "id": "a99e8214",
   "metadata": {},
   "outputs": [],
   "source": [
    "df = pd.read_csv(\"Test.csv\")"
   ]
  },
  {
   "cell_type": "code",
   "execution_count": 24,
   "id": "068b1532",
   "metadata": {},
   "outputs": [
    {
     "name": "stdout",
     "output_type": "stream",
     "text": [
      "                  Name\n",
      "0     PRIYADHARSHINI S\n",
      "1           PRIYANGA S\n",
      "2           PRIYANKA R\n",
      "3           RACHITHA S\n",
      "4             RAJESH H\n",
      "..                 ...\n",
      "62    VIJAY KRISHNAN K\n",
      "63  VIJAYA PRANEETHA A\n",
      "64       VIKNESWARAN A\n",
      "65       CHIRANJEEVE R\n",
      "66   PRAVEEN GAWTHAM.Y\n",
      "\n",
      "[67 rows x 1 columns]\n"
     ]
    }
   ],
   "source": [
    "print(df)"
   ]
  },
  {
   "cell_type": "code",
   "execution_count": 25,
   "id": "6a1d5694",
   "metadata": {},
   "outputs": [
    {
     "name": "stdout",
     "output_type": "stream",
     "text": [
      "\n",
      "Total rows: 67\n"
     ]
    }
   ],
   "source": [
    "num_rows = len(df)\n",
    "print(f\"\\nTotal rows: {num_rows}\")"
   ]
  },
  {
   "cell_type": "code",
   "execution_count": 26,
   "id": "5d96750d",
   "metadata": {},
   "outputs": [
    {
     "name": "stdout",
     "output_type": "stream",
     "text": [
      "Number of qubits needed: 7\n"
     ]
    }
   ],
   "source": [
    "num_qubits = math.ceil(math.log2(num_rows))\n",
    "print(f\"Number of qubits needed: {num_qubits}\")"
   ]
  }
 ],
 "metadata": {
  "kernelspec": {
   "display_name": "Python 3",
   "language": "python",
   "name": "python3"
  },
  "language_info": {
   "codemirror_mode": {
    "name": "ipython",
    "version": 3
   },
   "file_extension": ".py",
   "mimetype": "text/x-python",
   "name": "python",
   "nbconvert_exporter": "python",
   "pygments_lexer": "ipython3",
   "version": "3.12.3"
  }
 },
 "nbformat": 4,
 "nbformat_minor": 5
}
