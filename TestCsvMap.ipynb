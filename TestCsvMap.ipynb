{
 "cells": [
  {
   "cell_type": "code",
   "execution_count": 2,
   "id": "1a111997",
   "metadata": {},
   "outputs": [
    {
     "data": {
      "text/html": [
       "<div>\n",
       "<style scoped>\n",
       "    .dataframe tbody tr th:only-of-type {\n",
       "        vertical-align: middle;\n",
       "    }\n",
       "\n",
       "    .dataframe tbody tr th {\n",
       "        vertical-align: top;\n",
       "    }\n",
       "\n",
       "    .dataframe thead th {\n",
       "        text-align: right;\n",
       "    }\n",
       "</style>\n",
       "<table border=\"1\" class=\"dataframe\">\n",
       "  <thead>\n",
       "    <tr style=\"text-align: right;\">\n",
       "      <th></th>\n",
       "      <th>Name</th>\n",
       "    </tr>\n",
       "  </thead>\n",
       "  <tbody>\n",
       "    <tr>\n",
       "      <th>0</th>\n",
       "      <td>PRIYADHARSHINI S</td>\n",
       "    </tr>\n",
       "    <tr>\n",
       "      <th>1</th>\n",
       "      <td>PRIYANGA S</td>\n",
       "    </tr>\n",
       "    <tr>\n",
       "      <th>2</th>\n",
       "      <td>PRIYANKA R</td>\n",
       "    </tr>\n",
       "    <tr>\n",
       "      <th>3</th>\n",
       "      <td>RACHITHA S</td>\n",
       "    </tr>\n",
       "    <tr>\n",
       "      <th>4</th>\n",
       "      <td>RAJESH H</td>\n",
       "    </tr>\n",
       "  </tbody>\n",
       "</table>\n",
       "</div>"
      ],
      "text/plain": [
       "               Name\n",
       "0  PRIYADHARSHINI S\n",
       "1        PRIYANGA S\n",
       "2        PRIYANKA R\n",
       "3        RACHITHA S\n",
       "4          RAJESH H"
      ]
     },
     "execution_count": 2,
     "metadata": {},
     "output_type": "execute_result"
    }
   ],
   "source": [
    "import pandas as pd\n",
    "import math\n",
    "\n",
    "df = pd.read_csv(\"Test.csv\")\n",
    "\n",
    "df.head()"
   ]
  },
  {
   "cell_type": "code",
   "execution_count": 3,
   "id": "032a59b2",
   "metadata": {},
   "outputs": [
    {
     "name": "stdout",
     "output_type": "stream",
     "text": [
      "Total rows: 66\n",
      "Qubits required: 7\n"
     ]
    }
   ],
   "source": [
    "num_rows = len(df)\n",
    "num_qubits = math.ceil(math.log2(num_rows))\n",
    "\n",
    "print(f\"Total rows: {num_rows}\")\n",
    "print(f\"Qubits required: {num_qubits}\")\n"
   ]
  },
  {
   "cell_type": "code",
   "execution_count": null,
   "id": "c89cfb67",
   "metadata": {},
   "outputs": [
    {
     "data": {
      "text/html": [
       "<div>\n",
       "<style scoped>\n",
       "    .dataframe tbody tr th:only-of-type {\n",
       "        vertical-align: middle;\n",
       "    }\n",
       "\n",
       "    .dataframe tbody tr th {\n",
       "        vertical-align: top;\n",
       "    }\n",
       "\n",
       "    .dataframe thead th {\n",
       "        text-align: right;\n",
       "    }\n",
       "</style>\n",
       "<table border=\"1\" class=\"dataframe\">\n",
       "  <thead>\n",
       "    <tr style=\"text-align: right;\">\n",
       "      <th></th>\n",
       "      <th>RowIndex</th>\n",
       "      <th>Name</th>\n",
       "      <th>BinaryIndex</th>\n",
       "    </tr>\n",
       "  </thead>\n",
       "  <tbody>\n",
       "    <tr>\n",
       "      <th>0</th>\n",
       "      <td>0</td>\n",
       "      <td>PRIYADHARSHINI S</td>\n",
       "      <td>0000000</td>\n",
       "    </tr>\n",
       "    <tr>\n",
       "      <th>1</th>\n",
       "      <td>1</td>\n",
       "      <td>PRIYANGA S</td>\n",
       "      <td>0000001</td>\n",
       "    </tr>\n",
       "    <tr>\n",
       "      <th>2</th>\n",
       "      <td>2</td>\n",
       "      <td>PRIYANKA R</td>\n",
       "      <td>0000010</td>\n",
       "    </tr>\n",
       "    <tr>\n",
       "      <th>3</th>\n",
       "      <td>3</td>\n",
       "      <td>RACHITHA S</td>\n",
       "      <td>0000011</td>\n",
       "    </tr>\n",
       "    <tr>\n",
       "      <th>4</th>\n",
       "      <td>4</td>\n",
       "      <td>RAJESH H</td>\n",
       "      <td>0000100</td>\n",
       "    </tr>\n",
       "  </tbody>\n",
       "</table>\n",
       "</div>"
      ],
      "text/plain": [
       "   RowIndex              Name BinaryIndex\n",
       "0         0  PRIYADHARSHINI S     0000000\n",
       "1         1        PRIYANGA S     0000001\n",
       "2         2        PRIYANKA R     0000010\n",
       "3         3        RACHITHA S     0000011\n",
       "4         4          RAJESH H     0000100"
      ]
     },
     "execution_count": 4,
     "metadata": {},
     "output_type": "execute_result"
    }
   ],
   "source": [
    "df = df.reset_index().rename(columns={\"index\": \"RowIndex\"})\n",
    "\n",
    "df[\"BinaryIndex\"] = df[\"RowIndex\"].apply(\n",
    "    lambda x: format(x, f\"0{num_qubits}b\")\n",
    ")\n",
    "\n",
    "df.head()\n"
   ]
  },
  {
   "cell_type": "code",
   "execution_count": 5,
   "id": "609bdadd",
   "metadata": {},
   "outputs": [
    {
     "name": "stdout",
     "output_type": "stream",
     "text": [
      "0000000 -> {'Name': 'PRIYADHARSHINI S'}\n",
      "0000001 -> {'Name': 'PRIYANGA S'}\n",
      "0000010 -> {'Name': 'PRIYANKA R'}\n",
      "0000011 -> {'Name': 'RACHITHA S'}\n",
      "0000100 -> {'Name': 'RAJESH H'}\n"
     ]
    }
   ],
   "source": [
    "mapping = {\n",
    "    row[\"BinaryIndex\"]: row.drop([\"RowIndex\", \"BinaryIndex\"]).to_dict()\n",
    "    for _, row in df.iterrows()\n",
    "}\n",
    "\n",
    "for k, v in list(mapping.items())[:5]:\n",
    "    print(f\"{k} -> {v}\")\n"
   ]
  },
  {
   "cell_type": "code",
   "execution_count": 6,
   "id": "72150529",
   "metadata": {},
   "outputs": [
    {
     "name": "stdout",
     "output_type": "stream",
     "text": [
      "✅ Match found:\n",
      "    RowIndex         Name BinaryIndex\n",
      "25        25  SASIKUMAR R     0011001\n",
      "\n",
      "Target Binary Index: 0011001\n",
      "Target Row Data: {'RowIndex': 25, 'Name': 'SASIKUMAR R', 'BinaryIndex': '0011001'}\n"
     ]
    }
   ],
   "source": [
    "\n",
    "search_column = \"Name\"      \n",
    "search_value = \"SASIKUMAR R\"      \n",
    "\n",
    "\n",
    "target_rows = df[df[search_column] == search_value]\n",
    "\n",
    "if target_rows.empty:\n",
    "    print(f\"❌ No match found for {search_value} in column {search_column}\")\n",
    "else:\n",
    "    print(f\"✅ Match found:\\n{target_rows}\")\n",
    "\n",
    "    # Get RowIndex and BinaryIndex of first match\n",
    "    target_row = target_rows.iloc[0]\n",
    "    target_binary = target_row[\"BinaryIndex\"]\n",
    "\n",
    "    print(f\"\\nTarget Binary Index: {target_binary}\")\n",
    "    print(f\"Target Row Data: {target_row.to_dict()}\")\n"
   ]
  }
 ],
 "metadata": {
  "kernelspec": {
   "display_name": "Python 3",
   "language": "python",
   "name": "python3"
  },
  "language_info": {
   "codemirror_mode": {
    "name": "ipython",
    "version": 3
   },
   "file_extension": ".py",
   "mimetype": "text/x-python",
   "name": "python",
   "nbconvert_exporter": "python",
   "pygments_lexer": "ipython3",
   "version": "3.12.3"
  }
 },
 "nbformat": 4,
 "nbformat_minor": 5
}
